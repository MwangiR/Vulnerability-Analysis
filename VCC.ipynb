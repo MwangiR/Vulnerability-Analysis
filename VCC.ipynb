{
  "nbformat": 4,
  "nbformat_minor": 0,
  "metadata": {
    "orig_nbformat": 4,
    "language_info": {
      "name": "python",
      "version": "3.9.7",
      "mimetype": "text/x-python",
      "codemirror_mode": {
        "name": "ipython",
        "version": 3
      },
      "pygments_lexer": "ipython3",
      "nbconvert_exporter": "python",
      "file_extension": ".py"
    },
    "kernelspec": {
      "name": "python3",
      "display_name": "Python 3.9.7 64-bit"
    },
    "interpreter": {
      "hash": "9824f91b05f505f23886966e2ad90d1e24a6a3de1ef33d10cbc0c7249e29721e"
    },
    "colab": {
      "name": "part2.ipynb",
      "provenance": [],
      "collapsed_sections": []
    }
  },
  "cells": [
    {
      "cell_type": "code",
      "metadata": {
        "colab": {
          "base_uri": "https://localhost:8080/"
        },
        "id": "IGdiKTU13swx",
        "outputId": "77572d27-0b80-4c4e-c380-352171a269c2"
      },
      "source": [
        "import numpy as np\n",
        "import pandas as pd\n",
        "import os\n",
        "\n",
        "!pip install GitPython\n",
        "os.environ[\"GIT_PYTHON_REFRESH\"] = \"quiet\"\n",
        "\n",
        "import git\n",
        "from git import RemoteProgress\n",
        "\n",
        "from git import Repo\n",
        "import matplotlib.pyplot as plt\n",
        "import seaborn as sns\n",
        "%matplotlib inline"
      ],
      "execution_count": null,
      "outputs": [
        {
          "output_type": "stream",
          "name": "stdout",
          "text": [
            "Collecting GitPython\n",
            "  Downloading GitPython-3.1.18-py3-none-any.whl (170 kB)\n",
            "\u001b[K     |████████████████████████████████| 170 kB 3.9 MB/s \n",
            "\u001b[?25hCollecting gitdb<5,>=4.0.1\n",
            "  Downloading gitdb-4.0.7-py3-none-any.whl (63 kB)\n",
            "\u001b[K     |████████████████████████████████| 63 kB 971 kB/s \n",
            "\u001b[?25hRequirement already satisfied: typing-extensions>=3.7.4.0 in /usr/local/lib/python3.7/dist-packages (from GitPython) (3.7.4.3)\n",
            "Collecting smmap<5,>=3.0.1\n",
            "  Downloading smmap-4.0.0-py2.py3-none-any.whl (24 kB)\n",
            "Installing collected packages: smmap, gitdb, GitPython\n",
            "Successfully installed GitPython-3.1.18 gitdb-4.0.7 smmap-4.0.0\n"
          ]
        }
      ]
    },
    {
      "cell_type": "code",
      "metadata": {
        "id": "HhvcrfiJ3sw0",
        "colab": {
          "base_uri": "https://localhost:8080/",
          "height": 35
        },
        "outputId": "ba00cb3c-549f-4c2b-de3a-fedf2dc4d128"
      },
      "source": [
        "git.Git(\"/content/\").clone(\"git://github.com/jenkinsci/monitoring-plugin\")"
      ],
      "execution_count": null,
      "outputs": [
        {
          "output_type": "execute_result",
          "data": {
            "application/vnd.google.colaboratory.intrinsic+json": {
              "type": "string"
            },
            "text/plain": [
              "''"
            ]
          },
          "metadata": {},
          "execution_count": 7
        }
      ]
    },
    {
      "cell_type": "code",
      "metadata": {
        "id": "bq1Xv3SS3sw2"
      },
      "source": [
        "repo = Repo(\"monitoring-plugin/\")\n",
        "fixingCommit=\"f0f6aeef2032696c97d4b015dd51fa2b841b0473\""
      ],
      "execution_count": null,
      "outputs": []
    },
    {
      "cell_type": "markdown",
      "metadata": {
        "id": "FR2Tu8gr_nK-"
      },
      "source": [
        "Task ‘a’: What was the message and title of the fixing commit? Was there any mention of fixing a bug or vulnerability?"
      ]
    },
    {
      "cell_type": "code",
      "metadata": {
        "id": "TpbUD55L3sw3",
        "colab": {
          "base_uri": "https://localhost:8080/"
        },
        "outputId": "ea34fb3b-adba-4a1b-884c-7053b8f20198"
      },
      "source": [
        "import pprint as pprint\n",
        "show_data = repo.git.show(\"-s\", fixingCommit).splitlines()\n",
        "pprint.pprint(show_data[4])"
      ],
      "execution_count": null,
      "outputs": [
        {
          "output_type": "stream",
          "name": "stdout",
          "text": [
            "'    [FIXED SECURITY-113]'\n"
          ]
        }
      ]
    },
    {
      "cell_type": "markdown",
      "metadata": {
        "id": "AzvHhWQ5AE1v"
      },
      "source": [
        "Task ‘b’: How many total files were affected in the fixing commit?"
      ]
    },
    {
      "cell_type": "code",
      "metadata": {
        "colab": {
          "base_uri": "https://localhost:8080/"
        },
        "id": "cPA5puq5__U5",
        "outputId": "69837045-b366-495a-f26b-30ef2637c9e6"
      },
      "source": [
        "import pprint as pprint\n",
        "totalFilesAffected = repo.git.show(\"--stat\", \"f0f6aeef2032696c97d4b015dd51fa2b841b0473\").splitlines()\n",
        "\n",
        "pprint.pprint(totalFilesAffected[9])"
      ],
      "execution_count": null,
      "outputs": [
        {
          "output_type": "stream",
          "name": "stdout",
          "text": [
            "' 1 file changed, 12 insertions(+), 1 deletion(-)'\n"
          ]
        }
      ]
    },
    {
      "cell_type": "markdown",
      "metadata": {
        "id": "uZFM3_exAji8"
      },
      "source": [
        "Task ‘c’: How many total directories were affected in the fixing commit?"
      ]
    },
    {
      "cell_type": "code",
      "metadata": {
        "colab": {
          "base_uri": "https://localhost:8080/"
        },
        "id": "79wUoMHRAMnt",
        "outputId": "59af4713-574e-4078-fce2-34a2b72c2dde"
      },
      "source": [
        "totalDirectoriesAffected = repo.git.show(\"--stat\", \"f0f6aeef2032696c97d4b015dd51fa2b841b0473\").splitlines()\n",
        "\n",
        "pprint.pprint(\"Directories affected: \"+totalDirectoriesAffected[8][0:58])"
      ],
      "execution_count": null,
      "outputs": [
        {
          "output_type": "stream",
          "name": "stdout",
          "text": [
            "('Directories affected:  '\n",
            " '.../hudson/plugins/monitoring/HudsonMonitoringFilter.java')\n"
          ]
        }
      ]
    },
    {
      "cell_type": "markdown",
      "metadata": {
        "id": "N0VyqjInDlxo"
      },
      "source": [
        "Task 'd': How many total lines of code (including comments and blank lines) were deleted?"
      ]
    },
    {
      "cell_type": "code",
      "metadata": {
        "colab": {
          "base_uri": "https://localhost:8080/"
        },
        "id": "2YbtB8mnCdrn",
        "outputId": "c8b0f32e-7323-4b30-825b-caede097db2e"
      },
      "source": [
        "totalLinesDeletedInc = repo.git.show(\"--stat\", \"f0f6aeef2032696c97d4b015dd51fa2b841b0473\").splitlines()\n",
        "\n",
        "pprint.pprint(\"Total lines DELETED including comments and blank lines: \"+totalLinesDeletedInc[9][33:51])"
      ],
      "execution_count": null,
      "outputs": [
        {
          "output_type": "stream",
          "name": "stdout",
          "text": [
            "'Total lines DELETED including comments and blank lines: , 1 deletion(-)'\n"
          ]
        }
      ]
    },
    {
      "cell_type": "markdown",
      "metadata": {
        "id": "ewvwJmnrEP3Y"
      },
      "source": [
        "Task 'e': How many total lines of code (including comments and blank lines) were added?"
      ]
    },
    {
      "cell_type": "code",
      "metadata": {
        "colab": {
          "base_uri": "https://localhost:8080/"
        },
        "id": "KEfjPOpIAoC0",
        "outputId": "27f2aa6b-382b-4beb-a26a-f6fbff7282f2"
      },
      "source": [
        "totalLinesAddedInc = repo.git.show(\"--stat\", \"f0f6aeef2032696c97d4b015dd51fa2b841b0473\").splitlines()\n",
        "\n",
        "pprint.pprint(\"Total lines ADDED including comments and blank lines: \"+totalLinesAddedInc[9][17:33])"
      ],
      "execution_count": null,
      "outputs": [
        {
          "output_type": "stream",
          "name": "stdout",
          "text": [
            "'Total lines ADDED including comments and blank lines: 12 insertions(+)'\n"
          ]
        }
      ]
    },
    {
      "cell_type": "markdown",
      "metadata": {
        "id": "Q39WjfrAEsEX"
      },
      "source": [
        "Task 'f': How many total lines of code (excluding comments and blank lines) were deleted?"
      ]
    },
    {
      "cell_type": "code",
      "metadata": {
        "colab": {
          "base_uri": "https://localhost:8080/"
        },
        "id": "5bV7Y914Euh8",
        "outputId": "53f671c2-b7dc-437c-e77b-c1d541f2cc36"
      },
      "source": [
        "totalLinesDeletedExc = repo.git.show(\"--stat\", \"--ignore-blank-lines\", \"f0f6aeef2032696c97d4b015dd51fa2b841b0473\").splitlines()\n",
        "\n",
        "pprint.pprint(\"Total lines DELETED excluding comments and blank lines: \"+totalLinesDeletedExc[9][35:51])"
      ],
      "execution_count": null,
      "outputs": [
        {
          "output_type": "stream",
          "name": "stdout",
          "text": [
            "'Total lines DELETED excluding comments and blank lines: 1 deletion(-)'\n"
          ]
        }
      ]
    },
    {
      "cell_type": "markdown",
      "metadata": {
        "id": "CrgmnAfuE2Kq"
      },
      "source": [
        "Task 'g': How many total lines of code (excluding comments and blank lines) were added?"
      ]
    },
    {
      "cell_type": "code",
      "metadata": {
        "colab": {
          "base_uri": "https://localhost:8080/"
        },
        "id": "4OVMy4X6E0YS",
        "outputId": "e016f2b3-fc5e-4cbf-e828-b11fb5ded889"
      },
      "source": [
        "totalLinesAddedExc = repo.git.show(\"--stat\", \"--ignore-blank-lines\", \"f0f6aeef2032696c97d4b015dd51fa2b841b0473\").splitlines()\n",
        "\n",
        "pprint.pprint(\"Total lines ADDED excluding comments and blank lines: \"+totalLinesAddedExc[9][17:33])"
      ],
      "execution_count": null,
      "outputs": [
        {
          "output_type": "stream",
          "name": "stdout",
          "text": [
            "'Total lines ADDED excluding comments and blank lines: 12 insertions(+)'\n"
          ]
        }
      ]
    },
    {
      "cell_type": "markdown",
      "metadata": {
        "id": "dNvOfegvFBx2"
      },
      "source": [
        "Task ‘h’: How many days were between the current fixing commit and the previous commit of each affected file?"
      ]
    },
    {
      "cell_type": "code",
      "metadata": {
        "colab": {
          "base_uri": "https://localhost:8080/"
        },
        "id": "3OcNusVLE_s6",
        "outputId": "b50cd99f-ea62-44da-98a6-9d3c4d1570b9"
      },
      "source": [
        "from datetime import datetime\n",
        "from datetime import date\n",
        "DateOfFixingCommit = repo.git.log(\"-1\" ,\"--format=\\\"%ai\\\"\", \"f0f6aeef2032696c97d4b015dd51fa2b841b0473\",\"--\",\"/content/monitoring-plugin/src/main/java/org/jvnet/hudson/plugins/monitoring/HudsonMonitoringFilter.java\").splitlines()\n",
        "DateOfFixingCommit=DateOfFixingCommit[0][1:11]\n",
        "print(DateOfFixingCommit)\n",
        "DateOfPrevCommit = repo.git.log(\"-1\" ,\"--format=\\\"%ai\\\"\",\"-p\",\"f0f6aeef2032696c97d4b015dd51fa2b841b0473^\",\"--\",\"/content/monitoring-plugin/src/main/java/org/jvnet/hudson/plugins/monitoring/HudsonMonitoringFilter.java\").splitlines()\n",
        "DateOfPrevCommit=DateOfPrevCommit[0][1:11]\n",
        "DateOfPrevCommit= datetime.strptime(DateOfPrevCommit,\"%Y-%m-%d\")\n",
        "DateOfFixingCommit= datetime.strptime(DateOfFixingCommit,\"%Y-%m-%d\")\n",
        "Days=(DateOfFixingCommit-DateOfPrevCommit).days\n",
        "print(Days, \"Days\")"
      ],
      "execution_count": null,
      "outputs": [
        {
          "output_type": "stream",
          "name": "stdout",
          "text": [
            "2014-10-01\n",
            "108 Days\n"
          ]
        }
      ]
    },
    {
      "cell_type": "markdown",
      "metadata": {
        "id": "BK3HEHPXH1XQ"
      },
      "source": [
        "Task ‘I’: How many time has each affected file of the current fixing commit been modified in the past since their creation (including rename of the file)?"
      ]
    },
    {
      "cell_type": "code",
      "metadata": {
        "colab": {
          "base_uri": "https://localhost:8080/"
        },
        "id": "xvaabni3H37E",
        "outputId": "cf1e2bb1-1344-4bcc-c1cc-f45ab44aded3"
      },
      "source": [
        "Commits=repo.git.log(\"--follow\",\"f0f6aeef2032696c97d4b015dd51fa2b841b0473\",\"--\",\"/content/monitoring-plugin/src/main/java/org/jvnet/hudson/plugins/monitoring/HudsonMonitoringFilter.java\")\n",
        "print(Commits.count('commit'))"
      ],
      "execution_count": null,
      "outputs": [
        {
          "output_type": "stream",
          "name": "stdout",
          "text": [
            "12\n"
          ]
        }
      ]
    },
    {
      "cell_type": "markdown",
      "metadata": {
        "id": "kgkpT44pIDsp"
      },
      "source": [
        "Task ‘j’: Which developers have modified each affected file since its creation?"
      ]
    },
    {
      "cell_type": "code",
      "metadata": {
        "colab": {
          "base_uri": "https://localhost:8080/"
        },
        "id": "J4F6P-MBIGF1",
        "outputId": "64cd441d-bea7-4633-8f8f-d9d696c20229"
      },
      "source": [
        "Developers=repo.git.log(\"--format=\\\"%aN\\\"\",\"f0f6aeef2032696c97d4b015dd51fa2b841b0473\",\"--\",\"/content/monitoring-plugin/src/main/java/org/jvnet/hudson/plugins/monitoring/HudsonMonitoringFilter.java\")\n",
        "pprint.pprint(Developers)"
      ],
      "execution_count": null,
      "outputs": [
        {
          "output_type": "stream",
          "name": "stdout",
          "text": [
            "('\"Kohsuke Kawaguchi\"\\n'\n",
            " '\"evernat\"\\n'\n",
            " '\"evernat\"\\n'\n",
            " '\"evernat\"\\n'\n",
            " '\"evernat\"\\n'\n",
            " '\"evernat\"\\n'\n",
            " '\"evernat\"\\n'\n",
            " '\"evernat\"\\n'\n",
            " '\"evernat\"\\n'\n",
            " '\"evernat\"\\n'\n",
            " '\"evernat\"\\n'\n",
            " '\"evernat\"')\n"
          ]
        }
      ]
    },
    {
      "cell_type": "markdown",
      "metadata": {
        "id": "3rj54H3_IL1A"
      },
      "source": [
        "Task ‘k’: For each developer identified, how many commits have each of them\n",
        "submitted?\n",
        "\n"
      ]
    },
    {
      "cell_type": "code",
      "metadata": {
        "colab": {
          "base_uri": "https://localhost:8080/"
        },
        "id": "j8CQZqFUIMB5",
        "outputId": "5666eeb6-83e1-4dc2-affb-eff8a37ed4ca"
      },
      "source": [
        "TopDevelopers=repo.git.shortlog(\"-sn\",\"f0f6aeef2032696c97d4b015dd51fa2b841b0473\",\"--\",\"/content/monitoring-plugin/src/main/java/org/jvnet/hudson/plugins/monitoring/HudsonMonitoringFilter.java\")\n",
        "pprint.pprint(TopDevelopers)"
      ],
      "execution_count": null,
      "outputs": [
        {
          "output_type": "stream",
          "name": "stdout",
          "text": [
            "'    11\\tevernat\\n     1\\tKohsuke Kawaguchi'\n"
          ]
        }
      ]
    },
    {
      "cell_type": "markdown",
      "metadata": {
        "id": "cruNASsWL1GL"
      },
      "source": [
        "Task 3"
      ]
    },
    {
      "cell_type": "code",
      "metadata": {
        "id": "1ELymZdoNzRd"
      },
      "source": [
        "filepath=\"/content/monitoring-plugin/src/main/java/org/jvnet/hudson/plugins/monitoring/HudsonMonitoringFilter.java\""
      ],
      "execution_count": null,
      "outputs": []
    },
    {
      "cell_type": "code",
      "metadata": {
        "id": "IinyrJMiL1PA"
      },
      "source": [
        "def commitsDeletionDocumented(linesModifiedDictDel,commitsDeleted):\n",
        "    linesModifiedDictDel[\"linesDeletedAsCode\"].remove(foundFlag)\n",
        "    hashCode = repo.git.rev_parse(line[:line.find(\" \")])\n",
        "    commitsDeleted[fileName].append(hashCode)\n",
        "\n",
        "def enclosingScope(line,fileComp,commitsAdded,fileName):\n",
        "    indexList = int(line[line.rfind(\" \", 0,line.find(\")\")):line.find(\")\")]) - 1\n",
        "    individualIndex = indexList-1\n",
        "    exited = False\n",
        "    noSkip = True\n",
        "    while individualIndex >= 0:\n",
        "        lineShowData = fileComp[individualIndex][line.find(\") \")+2:].strip()\n",
        "        if lineShowData.endswith(\"}\"):\n",
        "            noSkip = False\n",
        "        if lineShowData.endswith(\"{\") and not noSkip:\n",
        "            noSkip = True\n",
        "        elif lineShowData.endswith(\"{\") and noSkip:\n",
        "            hashCode = repo.git.rev_parse(fileComp[individualIndex][:fileComp[individualIndex].find(\" \")])\n",
        "            commitsAdded[fileName].append(hashCode)\n",
        "            exited = True\n",
        "            break\n",
        "        individualIndex -= 1\n",
        "    if individualIndex < 0 and not exited:\n",
        "        hashCode = repo.git.rev_parse(line[:line.find(\" \")])\n",
        "        commitsAdded[fileName].append(hashCode)\n",
        "\n",
        "\n",
        "def printLines(commitsAddDel,commitsAddDelCount,fileName):\n",
        "    for files in commitsAddDel.items():\n",
        "        for commit in files:\n",
        "            commitsAddDelCountFile = Counter(commit)\n",
        "    commitsAddDelCount[fileName].append(commitsAddDelCountFile)\n",
        "    print(\"File Associated: \", fileName)\n",
        "    for commit, count in zip(commitsAddDelCountFile.keys(), commitsAddDelCountFile.values()):\n",
        "        print(\"Count of Commits:\", count, \", Commit:\", commit)\n",
        "\n",
        "\n",
        "def VCCCommitCount(files):\n",
        "    fileNames=files[0]\n",
        "    bugCommits = {}\n",
        "    bugCommits[fileNames] = {}\n",
        "    for file in commitsAdded[fileNames]:\n",
        "        if file in commitsDeleted[fileNames] and file in commitsAdded[fileNames]:\n",
        "            totalCommits = Counter(commitsDeleted[fileNames]+commitsAdded[fileNames])\n",
        "        elif file in commitsDeleted[fileNames] and file not in commitsAdded[fileNames]:\n",
        "            totalCommits = Counter(commitsDeleted[fileNames])\n",
        "        elif file not in commitsDeleted[fileNames] and file in commitsAdded[fileNames]:\n",
        "            totalCommits = Counter(commitsAdded[fileNames])\n",
        "        bugCommits[fileNames][file] = {\"count\": 0, \"commit\": \"\"}\n",
        "        for commit, count in zip(totalCommits.keys(), totalCommits.values()):\n",
        "            if (count > bugCommits[fileNames][file][\"count\"]):\n",
        "                if commit != fixingCommit:\n",
        "                  bugCommits[fileNames][file] = {\"count\": count, \"commit\": commit}\n",
        "            elif (count == bugCommits[fileNames][file][\"count\"]):\n",
        "                if commit != fixingCommit:         \n",
        "                  bugCommits[fileNames][file][\"count\"]=count\n",
        "                \n",
        "    print(\"Vulnerability Contributing Commit Count: \", bugCommits[fileNames][file][\"count\"], \" Commit: \", bugCommits[fileNames][file][\"commit\"])\n",
        "                "
      ],
      "execution_count": null,
      "outputs": []
    },
    {
      "cell_type": "code",
      "metadata": {
        "colab": {
          "base_uri": "https://localhost:8080/"
        },
        "id": "rKPmYiKeN-KB",
        "outputId": "0852b78a-b240-4caa-f821-823a4dd0ba65"
      },
      "source": [
        "import copy\n",
        "from collections import Counter\n",
        "\n",
        "fixingCommit=\"f0f6aeef2032696c97d4b015dd51fa2b841b0473\"\n",
        "files=[filepath]\n",
        "linesAdded=[]\n",
        "linesDeleted=[]\n",
        "buffDel=[]\n",
        "buffAdd=[]\n",
        "lineChanges={}\n",
        "fileName=files[0]\n",
        "\n",
        "showData = repo.git.show(fixingCommit, \"--\", fileName).splitlines()\n",
        "for modification in showData:\n",
        "    if \"@@\" in modification:\n",
        "        line=modification\n",
        "        line=line.split('@@')[1]\n",
        "        line=line.replace('-','')\n",
        "        line=line.replace('+','')\n",
        "        line=line.replace(\" \",\",\")\n",
        "        line=line.split(\",\")\n",
        "        buffDel=[int(line[1]),int(line[1])+int(line[2])-1]\n",
        "        buffAdd=[int(line[3]),int(line[3])+int(line[4])-1]\n",
        "        linesDeleted.append(buffDel)\n",
        "        linesAdded.append(buffAdd)\n",
        "lineChanges[files[0]] = {\"Lines Added\": linesAdded, \"Lines Deleted\": linesDeleted}\n",
        "\n",
        "showData=repo.git.show(fixingCommit, \"--\", fileName).splitlines()\n",
        "linesAddedAsCode=[]\n",
        "linesDeletedAsCode=[]\n",
        "linesModifiedDict={}\n",
        "commitsDeleted = {}\n",
        "commitsDeleted[fileName] = []\n",
        "commitsDeletedCount = {}\n",
        "commitsDeletedCount[fileName]=[]\n",
        "commitsAdded = {}\n",
        "commitsAdded[fileName]=[]\n",
        "commitsAddedCount = {}\n",
        "commitsAddedCount[fileName]=[]\n",
        "\n",
        "for lines in showData:\n",
        "    if lines.startswith('+') and not lines.startswith('+++'):\n",
        "        linesAddedAsCode.append(lines)\n",
        "    elif lines.startswith('-') and not lines.startswith('---'):\n",
        "        linesDeletedAsCode.append(lines)\n",
        "linesModifiedDict={'linesAddedAsCode':linesAddedAsCode,'linesDeletedAsCode':linesDeletedAsCode}\n",
        "showBlameData=repo.git.blame(fixingCommit, \"--\", fileName).splitlines()\n",
        "linePresent=None\n",
        "\n",
        "print(\"********DELETED COMMITS********\\n\\n\")\n",
        "linesModifiedDict = copy.deepcopy(linesModifiedDict)\n",
        "\n",
        "for linesDeleted in lineChanges[fileName][\"Lines Deleted\"]:\n",
        "    blamedShowData = repo.git.blame(fixingCommit+\"^1\", \"-L\", str(linesDeleted[0])+\",\"+str(linesDeleted[1]), \"--\", fileName).splitlines()\n",
        "    for line in blamedShowData:\n",
        "        blamedLineShowData = line.partition(\") \")[2].strip()\n",
        "        foundFlag = None\n",
        "        for linesDeletedAsCode in linesModifiedDict[\"linesDeletedAsCode\"]:\n",
        "            if blamedLineShowData in linesDeletedAsCode:\n",
        "                foundFlag = linesDeletedAsCode\n",
        "                break\n",
        "        if foundFlag != None:\n",
        "            commitsDeletionDocumented(linesModifiedDict,commitsDeleted)            \n",
        "printLines(commitsDeleted,commitsDeletedCount,fileName)\n",
        "\n",
        "print(\"\\n\\n********ADDED COMMITS********\\n\\n\")\n",
        "modified_lines_copy_add = copy.deepcopy(lineChanges)\n",
        "fileComp = repo.git.blame(fixingCommit, \"--\", fileName).splitlines()\n",
        "for linesAdded in lineChanges[fileName][\"Lines Added\"]:\n",
        "    blamedShowData = repo.git.blame(fixingCommit, \"-L\", str(linesAdded[0])+\",\"+str(linesAdded[1]), \"--\", fileName).splitlines()\n",
        "    for line in blamedShowData:\n",
        "        blamedLineShowData = line.partition(\") \")[2].strip()\n",
        "        foundFlag = None\n",
        "        for linesAddedAsCode in linesModifiedDict[\"linesAddedAsCode\"]:\n",
        "            if blamedLineShowData in linesAddedAsCode:\n",
        "                foundFlag = linesAddedAsCode\n",
        "                break\n",
        "        if foundFlag != None:\n",
        "            linesModifiedDict[\"linesAddedAsCode\"].remove(foundFlag)\n",
        "            enclosingScope(line,fileComp,commitsAdded,fileName)\n",
        "printLines(commitsAdded,commitsAddedCount,fileName)\n",
        "print(\"\\n\\n********VCC COMMITS********\\n\\n\")\n",
        "VCCCommitCount(files)\n"
      ],
      "execution_count": null,
      "outputs": [
        {
          "output_type": "stream",
          "name": "stdout",
          "text": [
            "********DELETED COMMITS********\n",
            "\n",
            "\n",
            "File Associated:  /content/monitoring-plugin/src/main/java/org/jvnet/hudson/plugins/monitoring/HudsonMonitoringFilter.java\n",
            "Count of Commits: 1 , Commit: 265514eaa1bc0a1a0be5fa8b2c581d35d36446a6\n",
            "\n",
            "\n",
            "********ADDED COMMITS********\n",
            "\n",
            "\n",
            "File Associated:  /content/monitoring-plugin/src/main/java/org/jvnet/hudson/plugins/monitoring/HudsonMonitoringFilter.java\n",
            "Count of Commits: 1 , Commit: 265514eaa1bc0a1a0be5fa8b2c581d35d36446a6\n",
            "Count of Commits: 1 , Commit: 95f116cece2df944ff0d004f044f4af557cdcf9e\n",
            "Count of Commits: 10 , Commit: f0f6aeef2032696c97d4b015dd51fa2b841b0473\n",
            "\n",
            "\n",
            "********VCC COMMITS********\n",
            "\n",
            "\n",
            "Vulnerability Contributing Commit Count:  1  Commit:  265514eaa1bc0a1a0be5fa8b2c581d35d36446a6\n"
          ]
        }
      ]
    },
    {
      "cell_type": "markdown",
      "metadata": {
        "id": "Au99LmIWQa_6"
      },
      "source": [
        "Task 4: with `-w` option\n",
        " "
      ]
    },
    {
      "cell_type": "code",
      "metadata": {
        "id": "GMt4kYRAQbMu",
        "colab": {
          "base_uri": "https://localhost:8080/"
        },
        "outputId": "18410025-6722-42d2-d216-99d7283fee04"
      },
      "source": [
        "import copy\n",
        "from collections import Counter\n",
        "\n",
        "fixingCommit=\"f0f6aeef2032696c97d4b015dd51fa2b841b0473\"\n",
        "files=[filepath]\n",
        "linesAdded=[]\n",
        "linesDeleted=[]\n",
        "buffDel=[]\n",
        "buffAdd=[]\n",
        "lineChanges={}\n",
        "fileName=files[0]\n",
        "\n",
        "showData = repo.git.show(fixingCommit, \"--\", fileName).splitlines()\n",
        "for modification in showData:\n",
        "    if \"@@\" in modification:\n",
        "        line=modification\n",
        "        line=line.split('@@')[1]\n",
        "        line=line.replace('-','')\n",
        "        line=line.replace('+','')\n",
        "        line=line.replace(\" \",\",\")\n",
        "        line=line.split(\",\")\n",
        "        buffDel=[int(line[1]),int(line[1])+int(line[2])-1]\n",
        "        buffAdd=[int(line[3]),int(line[3])+int(line[4])-1]\n",
        "        linesDeleted.append(buffDel)\n",
        "        linesAdded.append(buffAdd)\n",
        "lineChanges[files[0]] = {\"Lines Added\": linesAdded, \"Lines Deleted\": linesDeleted}\n",
        "\n",
        "showData=repo.git.show(fixingCommit, \"--\", fileName).splitlines()\n",
        "linesAddedAsCode=[]\n",
        "linesDeletedAsCode=[]\n",
        "linesModifiedDict={}\n",
        "commitsDeleted = {}\n",
        "commitsDeleted[fileName] = []\n",
        "commitsDeletedCount = {}\n",
        "commitsDeletedCount[fileName]=[]\n",
        "commitsAdded = {}\n",
        "commitsAdded[fileName]=[]\n",
        "commitsAddedCount = {}\n",
        "commitsAddedCount[fileName]=[]\n",
        "\n",
        "for lines in showData:\n",
        "    if lines.startswith('+') and not lines.startswith('+++'):\n",
        "        linesAddedAsCode.append(lines)\n",
        "    elif lines.startswith('-') and not lines.startswith('---'):\n",
        "        linesDeletedAsCode.append(lines)\n",
        "linesModifiedDict={'linesAddedAsCode':linesAddedAsCode,'linesDeletedAsCode':linesDeletedAsCode}\n",
        "showBlameData=repo.git.blame(fixingCommit, \"--\", fileName).splitlines()\n",
        "linePresent=None\n",
        "\n",
        "print(\"********DELETED COMMITS********\\n\\n\")\n",
        "linesModifiedDict = copy.deepcopy(linesModifiedDict)\n",
        "\n",
        "for linesDeleted in lineChanges[fileName][\"Lines Deleted\"]:\n",
        "    blamedShowData = repo.git.blame(fixingCommit+\"^1\", \"-L\", str(linesDeleted[0])+\",\"+str(linesDeleted[1]), \"-w\", \"--\", fileName).splitlines()\n",
        "    for line in blamedShowData:\n",
        "        blamedLineShowData = line.partition(\") \")[2].strip()\n",
        "        foundFlag = None\n",
        "        for linesDeletedAsCode in linesModifiedDict[\"linesDeletedAsCode\"]:\n",
        "            if blamedLineShowData in linesDeletedAsCode:\n",
        "                foundFlag = linesDeletedAsCode\n",
        "                break\n",
        "        if foundFlag != None:\n",
        "            commitsDeletionDocumented(linesModifiedDict,commitsDeleted)            \n",
        "printLines(commitsDeleted,commitsDeletedCount,fileName)\n",
        "\n",
        "print(\"\\n\\n********ADDED COMMITS********\\n\\n\")\n",
        "modified_lines_copy_add = copy.deepcopy(lineChanges)\n",
        "fileComp = repo.git.blame(fixingCommit, \"--\", fileName).splitlines()\n",
        "for linesAdded in lineChanges[fileName][\"Lines Added\"]:\n",
        "    blamedShowData = repo.git.blame(fixingCommit, \"-L\", str(linesAdded[0])+\",\"+str(linesAdded[1]), \"-w\", \"--\", fileName).splitlines()\n",
        "    for line in blamedShowData:\n",
        "        blamedLineShowData = line.partition(\") \")[2].strip()\n",
        "        foundFlag = None\n",
        "        for linesAddedAsCode in linesModifiedDict[\"linesAddedAsCode\"]:\n",
        "            if blamedLineShowData in linesAddedAsCode:\n",
        "                foundFlag = linesAddedAsCode\n",
        "                break\n",
        "        if foundFlag != None:\n",
        "            linesModifiedDict[\"linesAddedAsCode\"].remove(foundFlag)\n",
        "            enclosingScope(line,fileComp,commitsAdded,fileName)\n",
        "printLines(commitsAdded,commitsAddedCount,fileName)\n",
        "print(\"\\n\\n********VCC COMMITS********\\n\\n\")\n",
        "VCCCommitCount(files)"
      ],
      "execution_count": null,
      "outputs": [
        {
          "output_type": "stream",
          "name": "stdout",
          "text": [
            "********DELETED COMMITS********\n",
            "\n",
            "\n",
            "File Associated:  /content/monitoring-plugin/src/main/java/org/jvnet/hudson/plugins/monitoring/HudsonMonitoringFilter.java\n",
            "Count of Commits: 1 , Commit: 265514eaa1bc0a1a0be5fa8b2c581d35d36446a6\n",
            "\n",
            "\n",
            "********ADDED COMMITS********\n",
            "\n",
            "\n",
            "File Associated:  /content/monitoring-plugin/src/main/java/org/jvnet/hudson/plugins/monitoring/HudsonMonitoringFilter.java\n",
            "Count of Commits: 1 , Commit: 265514eaa1bc0a1a0be5fa8b2c581d35d36446a6\n",
            "Count of Commits: 1 , Commit: 95f116cece2df944ff0d004f044f4af557cdcf9e\n",
            "Count of Commits: 10 , Commit: f0f6aeef2032696c97d4b015dd51fa2b841b0473\n",
            "\n",
            "\n",
            "********VCC COMMITS********\n",
            "\n",
            "\n",
            "Vulnerability Contributing Commit Count:  1  Commit:  265514eaa1bc0a1a0be5fa8b2c581d35d36446a6\n"
          ]
        }
      ]
    },
    {
      "cell_type": "markdown",
      "metadata": {
        "id": "gO2HWMnmdlwj"
      },
      "source": [
        "Task 4: With `-wM` option"
      ]
    },
    {
      "cell_type": "code",
      "metadata": {
        "colab": {
          "base_uri": "https://localhost:8080/"
        },
        "id": "fQ9nzryhi-KH",
        "outputId": "6a9faabe-5932-4f51-d6c0-60122f85d445"
      },
      "source": [
        "import copy\n",
        "from collections import Counter\n",
        "\n",
        "fixingCommit=\"f0f6aeef2032696c97d4b015dd51fa2b841b0473\"\n",
        "files=[filepath]\n",
        "linesAdded=[]\n",
        "linesDeleted=[]\n",
        "buffDel=[]\n",
        "buffAdd=[]\n",
        "lineChanges={}\n",
        "fileName=files[0]\n",
        "\n",
        "showData = repo.git.show(fixingCommit, \"--\", fileName).splitlines()\n",
        "for modification in showData:\n",
        "    if \"@@\" in modification:\n",
        "        line=modification\n",
        "        line=line.split('@@')[1]\n",
        "        line=line.replace('-','')\n",
        "        line=line.replace('+','')\n",
        "        line=line.replace(\" \",\",\")\n",
        "        line=line.split(\",\")\n",
        "        buffDel=[int(line[1]),int(line[1])+int(line[2])-1]\n",
        "        buffAdd=[int(line[3]),int(line[3])+int(line[4])-1]\n",
        "        linesDeleted.append(buffDel)\n",
        "        linesAdded.append(buffAdd)\n",
        "lineChanges[files[0]] = {\"Lines Added\": linesAdded, \"Lines Deleted\": linesDeleted}\n",
        "\n",
        "showData=repo.git.show(fixingCommit, \"--\", fileName).splitlines()\n",
        "linesAddedAsCode=[]\n",
        "linesDeletedAsCode=[]\n",
        "linesModifiedDict={}\n",
        "commitsDeleted = {}\n",
        "commitsDeleted[fileName] = []\n",
        "commitsDeletedCount = {}\n",
        "commitsDeletedCount[fileName]=[]\n",
        "commitsAdded = {}\n",
        "commitsAdded[fileName]=[]\n",
        "commitsAddedCount = {}\n",
        "commitsAddedCount[fileName]=[]\n",
        "\n",
        "for lines in showData:\n",
        "    if lines.startswith('+') and not lines.startswith('+++'):\n",
        "        linesAddedAsCode.append(lines)\n",
        "    elif lines.startswith('-') and not lines.startswith('---'):\n",
        "        linesDeletedAsCode.append(lines)\n",
        "linesModifiedDict={'linesAddedAsCode':linesAddedAsCode,'linesDeletedAsCode':linesDeletedAsCode}\n",
        "showBlameData=repo.git.blame(fixingCommit, \"--\", fileName).splitlines()\n",
        "linePresent=None\n",
        "\n",
        "print(\"********DELETED COMMITS********\\n\\n\")\n",
        "linesModifiedDict = copy.deepcopy(linesModifiedDict)\n",
        "\n",
        "for linesDeleted in lineChanges[fileName][\"Lines Deleted\"]:\n",
        "    blamedShowData = repo.git.blame(fixingCommit+\"^1\", \"-L\", str(linesDeleted[0])+\",\"+str(linesDeleted[1]), \"-wM\", \"--\", fileName).splitlines()\n",
        "    for line in blamedShowData:\n",
        "        blamedLineShowData = line.partition(\") \")[2].strip()\n",
        "        foundFlag = None\n",
        "        for linesDeletedAsCode in linesModifiedDict[\"linesDeletedAsCode\"]:\n",
        "            if blamedLineShowData in linesDeletedAsCode:\n",
        "                foundFlag = linesDeletedAsCode\n",
        "                break\n",
        "        if foundFlag != None:\n",
        "            commitsDeletionDocumented(linesModifiedDict,commitsDeleted)            \n",
        "printLines(commitsDeleted,commitsDeletedCount,fileName)\n",
        "\n",
        "print(\"\\n\\n********ADDED COMMITS********\\n\\n\")\n",
        "modified_lines_copy_add = copy.deepcopy(lineChanges)\n",
        "fileComp = repo.git.blame(fixingCommit, \"--\", fileName).splitlines()\n",
        "for linesAdded in lineChanges[fileName][\"Lines Added\"]:\n",
        "    blamedShowData = repo.git.blame(fixingCommit, \"-L\", str(linesAdded[0])+\",\"+str(linesAdded[1]), \"-wM\", \"--\", fileName).splitlines()\n",
        "    for line in blamedShowData:\n",
        "        blamedLineShowData = line.partition(\") \")[2].strip()\n",
        "        foundFlag = None\n",
        "        for linesAddedAsCode in linesModifiedDict[\"linesAddedAsCode\"]:\n",
        "            if blamedLineShowData in linesAddedAsCode:\n",
        "                foundFlag = linesAddedAsCode\n",
        "                break\n",
        "        if foundFlag != None:\n",
        "            linesModifiedDict[\"linesAddedAsCode\"].remove(foundFlag)\n",
        "            enclosingScope(line,fileComp,commitsAdded,fileName)\n",
        "printLines(commitsAdded,commitsAddedCount,fileName)\n",
        "print(\"\\n\\n********VCC COMMITS********\\n\\n\")\n",
        "VCCCommitCount(files)"
      ],
      "execution_count": null,
      "outputs": [
        {
          "output_type": "stream",
          "name": "stdout",
          "text": [
            "********DELETED COMMITS********\n",
            "\n",
            "\n",
            "File Associated:  /content/monitoring-plugin/src/main/java/org/jvnet/hudson/plugins/monitoring/HudsonMonitoringFilter.java\n",
            "Count of Commits: 1 , Commit: 265514eaa1bc0a1a0be5fa8b2c581d35d36446a6\n",
            "\n",
            "\n",
            "********ADDED COMMITS********\n",
            "\n",
            "\n",
            "File Associated:  /content/monitoring-plugin/src/main/java/org/jvnet/hudson/plugins/monitoring/HudsonMonitoringFilter.java\n",
            "Count of Commits: 1 , Commit: 265514eaa1bc0a1a0be5fa8b2c581d35d36446a6\n",
            "Count of Commits: 1 , Commit: 95f116cece2df944ff0d004f044f4af557cdcf9e\n",
            "Count of Commits: 10 , Commit: f0f6aeef2032696c97d4b015dd51fa2b841b0473\n",
            "\n",
            "\n",
            "********VCC COMMITS********\n",
            "\n",
            "\n",
            "Vulnerability Contributing Commit Count:  1  Commit:  265514eaa1bc0a1a0be5fa8b2c581d35d36446a6\n"
          ]
        }
      ]
    },
    {
      "cell_type": "markdown",
      "metadata": {
        "id": "wO9PsuzljQAY"
      },
      "source": [
        "Task 4: With `-wC` option"
      ]
    },
    {
      "cell_type": "code",
      "metadata": {
        "colab": {
          "base_uri": "https://localhost:8080/"
        },
        "id": "8ZAptblAjPNf",
        "outputId": "06c03aed-d84c-43bb-bd14-c2f38cc19720"
      },
      "source": [
        "import copy\n",
        "from collections import Counter\n",
        "\n",
        "fixingCommit=\"f0f6aeef2032696c97d4b015dd51fa2b841b0473\"\n",
        "files=[filepath]\n",
        "linesAdded=[]\n",
        "linesDeleted=[]\n",
        "buffDel=[]\n",
        "buffAdd=[]\n",
        "lineChanges={}\n",
        "fileName=files[0]\n",
        "\n",
        "showData = repo.git.show(fixingCommit, \"--\", fileName).splitlines()\n",
        "for modification in showData:\n",
        "    if \"@@\" in modification:\n",
        "        line=modification\n",
        "        line=line.split('@@')[1]\n",
        "        line=line.replace('-','')\n",
        "        line=line.replace('+','')\n",
        "        line=line.replace(\" \",\",\")\n",
        "        line=line.split(\",\")\n",
        "        buffDel=[int(line[1]),int(line[1])+int(line[2])-1]\n",
        "        buffAdd=[int(line[3]),int(line[3])+int(line[4])-1]\n",
        "        linesDeleted.append(buffDel)\n",
        "        linesAdded.append(buffAdd)\n",
        "lineChanges[files[0]] = {\"Lines Added\": linesAdded, \"Lines Deleted\": linesDeleted}\n",
        "\n",
        "showData=repo.git.show(fixingCommit, \"--\", fileName).splitlines()\n",
        "linesAddedAsCode=[]\n",
        "linesDeletedAsCode=[]\n",
        "linesModifiedDict={}\n",
        "commitsDeleted = {}\n",
        "commitsDeleted[fileName] = []\n",
        "commitsDeletedCount = {}\n",
        "commitsDeletedCount[fileName]=[]\n",
        "commitsAdded = {}\n",
        "commitsAdded[fileName]=[]\n",
        "commitsAddedCount = {}\n",
        "commitsAddedCount[fileName]=[]\n",
        "\n",
        "for lines in showData:\n",
        "    if lines.startswith('+') and not lines.startswith('+++'):\n",
        "        linesAddedAsCode.append(lines)\n",
        "    elif lines.startswith('-') and not lines.startswith('---'):\n",
        "        linesDeletedAsCode.append(lines)\n",
        "linesModifiedDict={'linesAddedAsCode':linesAddedAsCode,'linesDeletedAsCode':linesDeletedAsCode}\n",
        "showBlameData=repo.git.blame(fixingCommit, \"--\", fileName).splitlines()\n",
        "linePresent=None\n",
        "\n",
        "print(\"********DELETED COMMITS********\\n\\n\")\n",
        "linesModifiedDict = copy.deepcopy(linesModifiedDict)\n",
        "\n",
        "for linesDeleted in lineChanges[fileName][\"Lines Deleted\"]:\n",
        "    blamedShowData = repo.git.blame(fixingCommit+\"^1\", \"-L\", str(linesDeleted[0])+\",\"+str(linesDeleted[1]), \"-wC\", \"--\", fileName).splitlines()\n",
        "    for line in blamedShowData:\n",
        "        blamedLineShowData = line.partition(\") \")[2].strip()\n",
        "        foundFlag = None\n",
        "        for linesDeletedAsCode in linesModifiedDict[\"linesDeletedAsCode\"]:\n",
        "            if blamedLineShowData in linesDeletedAsCode:\n",
        "                foundFlag = linesDeletedAsCode\n",
        "                break\n",
        "        if foundFlag != None:\n",
        "            commitsDeletionDocumented(linesModifiedDict,commitsDeleted)            \n",
        "printLines(commitsDeleted,commitsDeletedCount,fileName)\n",
        "\n",
        "print(\"\\n\\n********ADDED COMMITS********\\n\\n\")\n",
        "modified_lines_copy_add = copy.deepcopy(lineChanges)\n",
        "fileComp = repo.git.blame(fixingCommit, \"--\", fileName).splitlines()\n",
        "for linesAdded in lineChanges[fileName][\"Lines Added\"]:\n",
        "    blamedShowData = repo.git.blame(fixingCommit, \"-L\", str(linesAdded[0])+\",\"+str(linesAdded[1]), \"-wC\", \"--\", fileName).splitlines()\n",
        "    for line in blamedShowData:\n",
        "        blamedLineShowData = line.partition(\") \")[2].strip()\n",
        "        foundFlag = None\n",
        "        for linesAddedAsCode in linesModifiedDict[\"linesAddedAsCode\"]:\n",
        "            if blamedLineShowData in linesAddedAsCode:\n",
        "                foundFlag = linesAddedAsCode\n",
        "                break\n",
        "        if foundFlag != None:\n",
        "            linesModifiedDict[\"linesAddedAsCode\"].remove(foundFlag)\n",
        "            enclosingScope(line,fileComp,commitsAdded,fileName)\n",
        "printLines(commitsAdded,commitsAddedCount,fileName)\n",
        "print(\"\\n\\n********VCC COMMITS********\\n\\n\")\n",
        "VCCCommitCount(files)"
      ],
      "execution_count": null,
      "outputs": [
        {
          "output_type": "stream",
          "name": "stdout",
          "text": [
            "********DELETED COMMITS********\n",
            "\n",
            "\n",
            "File Associated:  /content/monitoring-plugin/src/main/java/org/jvnet/hudson/plugins/monitoring/HudsonMonitoringFilter.java\n",
            "Count of Commits: 1 , Commit: 265514eaa1bc0a1a0be5fa8b2c581d35d36446a6\n",
            "\n",
            "\n",
            "********ADDED COMMITS********\n",
            "\n",
            "\n",
            "File Associated:  /content/monitoring-plugin/src/main/java/org/jvnet/hudson/plugins/monitoring/HudsonMonitoringFilter.java\n",
            "Count of Commits: 1 , Commit: 265514eaa1bc0a1a0be5fa8b2c581d35d36446a6\n",
            "Count of Commits: 1 , Commit: 95f116cece2df944ff0d004f044f4af557cdcf9e\n",
            "Count of Commits: 10 , Commit: f0f6aeef2032696c97d4b015dd51fa2b841b0473\n",
            "\n",
            "\n",
            "********VCC COMMITS********\n",
            "\n",
            "\n",
            "Vulnerability Contributing Commit Count:  1  Commit:  265514eaa1bc0a1a0be5fa8b2c581d35d36446a6\n"
          ]
        }
      ]
    },
    {
      "cell_type": "markdown",
      "metadata": {
        "id": "As_QLjNSjeGC"
      },
      "source": [
        "Task 4: With `-wCC` option"
      ]
    },
    {
      "cell_type": "code",
      "metadata": {
        "colab": {
          "base_uri": "https://localhost:8080/"
        },
        "id": "HB0akD85jeTu",
        "outputId": "edb3e411-c6f0-44ee-a4be-aed86ab2e0a2"
      },
      "source": [
        "import copy\n",
        "from collections import Counter\n",
        "\n",
        "fixingCommit=\"f0f6aeef2032696c97d4b015dd51fa2b841b0473\"\n",
        "files=[filepath]\n",
        "linesAdded=[]\n",
        "linesDeleted=[]\n",
        "buffDel=[]\n",
        "buffAdd=[]\n",
        "lineChanges={}\n",
        "fileName=files[0]\n",
        "\n",
        "showData = repo.git.show(fixingCommit, \"--\", fileName).splitlines()\n",
        "for modification in showData:\n",
        "    if \"@@\" in modification:\n",
        "        line=modification\n",
        "        line=line.split('@@')[1]\n",
        "        line=line.replace('-','')\n",
        "        line=line.replace('+','')\n",
        "        line=line.replace(\" \",\",\")\n",
        "        line=line.split(\",\")\n",
        "        buffDel=[int(line[1]),int(line[1])+int(line[2])-1]\n",
        "        buffAdd=[int(line[3]),int(line[3])+int(line[4])-1]\n",
        "        linesDeleted.append(buffDel)\n",
        "        linesAdded.append(buffAdd)\n",
        "lineChanges[files[0]] = {\"Lines Added\": linesAdded, \"Lines Deleted\": linesDeleted}\n",
        "\n",
        "showData=repo.git.show(fixingCommit, \"--\", fileName).splitlines()\n",
        "linesAddedAsCode=[]\n",
        "linesDeletedAsCode=[]\n",
        "linesModifiedDict={}\n",
        "commitsDeleted = {}\n",
        "commitsDeleted[fileName] = []\n",
        "commitsDeletedCount = {}\n",
        "commitsDeletedCount[fileName]=[]\n",
        "commitsAdded = {}\n",
        "commitsAdded[fileName]=[]\n",
        "commitsAddedCount = {}\n",
        "commitsAddedCount[fileName]=[]\n",
        "\n",
        "for lines in showData:\n",
        "    if lines.startswith('+') and not lines.startswith('+++'):\n",
        "        linesAddedAsCode.append(lines)\n",
        "    elif lines.startswith('-') and not lines.startswith('---'):\n",
        "        linesDeletedAsCode.append(lines)\n",
        "linesModifiedDict={'linesAddedAsCode':linesAddedAsCode,'linesDeletedAsCode':linesDeletedAsCode}\n",
        "showBlameData=repo.git.blame(fixingCommit, \"--\", fileName).splitlines()\n",
        "linePresent=None\n",
        "\n",
        "print(\"********DELETED COMMITS********\\n\\n\")\n",
        "linesModifiedDict = copy.deepcopy(linesModifiedDict)\n",
        "\n",
        "for linesDeleted in lineChanges[fileName][\"Lines Deleted\"]:\n",
        "    blamedShowData = repo.git.blame(fixingCommit+\"^1\", \"-L\", str(linesDeleted[0])+\",\"+str(linesDeleted[1]), \"-wCC\", \"--\", fileName).splitlines()\n",
        "    for line in blamedShowData:\n",
        "        blamedLineShowData = line.partition(\") \")[2].strip()\n",
        "        foundFlag = None\n",
        "        for linesDeletedAsCode in linesModifiedDict[\"linesDeletedAsCode\"]:\n",
        "            if blamedLineShowData in linesDeletedAsCode:\n",
        "                foundFlag = linesDeletedAsCode\n",
        "                break\n",
        "        if foundFlag != None:\n",
        "            commitsDeletionDocumented(linesModifiedDict,commitsDeleted)            \n",
        "printLines(commitsDeleted,commitsDeletedCount,fileName)\n",
        "\n",
        "print(\"\\n\\n********ADDED COMMITS********\\n\\n\")\n",
        "modified_lines_copy_add = copy.deepcopy(lineChanges)\n",
        "fileComp = repo.git.blame(fixingCommit, \"--\", fileName).splitlines()\n",
        "for linesAdded in lineChanges[fileName][\"Lines Added\"]:\n",
        "    blamedShowData = repo.git.blame(fixingCommit, \"-L\", str(linesAdded[0])+\",\"+str(linesAdded[1]), \"-wCC\", \"--\", fileName).splitlines()\n",
        "    for line in blamedShowData:\n",
        "        blamedLineShowData = line.partition(\") \")[2].strip()\n",
        "        foundFlag = None\n",
        "        for linesAddedAsCode in linesModifiedDict[\"linesAddedAsCode\"]:\n",
        "            if blamedLineShowData in linesAddedAsCode:\n",
        "                foundFlag = linesAddedAsCode\n",
        "                break\n",
        "        if foundFlag != None:\n",
        "            linesModifiedDict[\"linesAddedAsCode\"].remove(foundFlag)\n",
        "            enclosingScope(line,fileComp,commitsAdded,fileName)\n",
        "printLines(commitsAdded,commitsAddedCount,fileName)\n",
        "print(\"\\n\\n********VCC COMMITS********\\n\\n\")\n",
        "VCCCommitCount(files)"
      ],
      "execution_count": null,
      "outputs": [
        {
          "output_type": "stream",
          "name": "stdout",
          "text": [
            "********DELETED COMMITS********\n",
            "\n",
            "\n",
            "File Associated:  /content/monitoring-plugin/src/main/java/org/jvnet/hudson/plugins/monitoring/HudsonMonitoringFilter.java\n",
            "Count of Commits: 1 , Commit: 265514eaa1bc0a1a0be5fa8b2c581d35d36446a6\n",
            "\n",
            "\n",
            "********ADDED COMMITS********\n",
            "\n",
            "\n",
            "File Associated:  /content/monitoring-plugin/src/main/java/org/jvnet/hudson/plugins/monitoring/HudsonMonitoringFilter.java\n",
            "Count of Commits: 1 , Commit: 265514eaa1bc0a1a0be5fa8b2c581d35d36446a6\n",
            "Count of Commits: 1 , Commit: 95f116cece2df944ff0d004f044f4af557cdcf9e\n",
            "Count of Commits: 10 , Commit: f0f6aeef2032696c97d4b015dd51fa2b841b0473\n",
            "\n",
            "\n",
            "********VCC COMMITS********\n",
            "\n",
            "\n",
            "Vulnerability Contributing Commit Count:  1  Commit:  265514eaa1bc0a1a0be5fa8b2c581d35d36446a6\n"
          ]
        }
      ]
    },
    {
      "cell_type": "markdown",
      "metadata": {
        "id": "LLyKzfpcjmxM"
      },
      "source": [
        "Task 4: With `-wCCC` option"
      ]
    },
    {
      "cell_type": "code",
      "metadata": {
        "colab": {
          "base_uri": "https://localhost:8080/"
        },
        "id": "CcxX5t07jnBc",
        "outputId": "c121049a-3dab-4a99-b6bb-dba9b262f433"
      },
      "source": [
        "import copy\n",
        "from collections import Counter\n",
        "\n",
        "fixingCommit=\"f0f6aeef2032696c97d4b015dd51fa2b841b0473\"\n",
        "files=[filepath]\n",
        "linesAdded=[]\n",
        "linesDeleted=[]\n",
        "buffDel=[]\n",
        "buffAdd=[]\n",
        "lineChanges={}\n",
        "fileName=files[0]\n",
        "\n",
        "showData = repo.git.show(fixingCommit, \"--\", fileName).splitlines()\n",
        "for modification in showData:\n",
        "    if \"@@\" in modification:\n",
        "        line=modification\n",
        "        line=line.split('@@')[1]\n",
        "        line=line.replace('-','')\n",
        "        line=line.replace('+','')\n",
        "        line=line.replace(\" \",\",\")\n",
        "        line=line.split(\",\")\n",
        "        buffDel=[int(line[1]),int(line[1])+int(line[2])-1]\n",
        "        buffAdd=[int(line[3]),int(line[3])+int(line[4])-1]\n",
        "        linesDeleted.append(buffDel)\n",
        "        linesAdded.append(buffAdd)\n",
        "lineChanges[files[0]] = {\"Lines Added\": linesAdded, \"Lines Deleted\": linesDeleted}\n",
        "\n",
        "showData=repo.git.show(fixingCommit, \"--\", fileName).splitlines()\n",
        "linesAddedAsCode=[]\n",
        "linesDeletedAsCode=[]\n",
        "linesModifiedDict={}\n",
        "commitsDeleted = {}\n",
        "commitsDeleted[fileName] = []\n",
        "commitsDeletedCount = {}\n",
        "commitsDeletedCount[fileName]=[]\n",
        "commitsAdded = {}\n",
        "commitsAdded[fileName]=[]\n",
        "commitsAddedCount = {}\n",
        "commitsAddedCount[fileName]=[]\n",
        "\n",
        "for lines in showData:\n",
        "    if lines.startswith('+') and not lines.startswith('+++'):\n",
        "        linesAddedAsCode.append(lines)\n",
        "    elif lines.startswith('-') and not lines.startswith('---'):\n",
        "        linesDeletedAsCode.append(lines)\n",
        "linesModifiedDict={'linesAddedAsCode':linesAddedAsCode,'linesDeletedAsCode':linesDeletedAsCode}\n",
        "showBlameData=repo.git.blame(fixingCommit, \"--\", fileName).splitlines()\n",
        "linePresent=None\n",
        "\n",
        "print(\"********DELETED COMMITS********\\n\\n\")\n",
        "linesModifiedDict = copy.deepcopy(linesModifiedDict)\n",
        "\n",
        "for linesDeleted in lineChanges[fileName][\"Lines Deleted\"]:\n",
        "    blamedShowData = repo.git.blame(fixingCommit+\"^1\", \"-L\", str(linesDeleted[0])+\",\"+str(linesDeleted[1]), \"-wCCC\", \"--\", fileName).splitlines()\n",
        "    for line in blamedShowData:\n",
        "        blamedLineShowData = line.partition(\") \")[2].strip()\n",
        "        foundFlag = None\n",
        "        for linesDeletedAsCode in linesModifiedDict[\"linesDeletedAsCode\"]:\n",
        "            if blamedLineShowData in linesDeletedAsCode:\n",
        "                foundFlag = linesDeletedAsCode\n",
        "                break\n",
        "        if foundFlag != None:\n",
        "            commitsDeletionDocumented(linesModifiedDict,commitsDeleted)            \n",
        "printLines(commitsDeleted,commitsDeletedCount,fileName)\n",
        "\n",
        "print(\"\\n\\n********ADDED COMMITS********\\n\\n\")\n",
        "modified_lines_copy_add = copy.deepcopy(lineChanges)\n",
        "fileComp = repo.git.blame(fixingCommit, \"--\", fileName).splitlines()\n",
        "for linesAdded in lineChanges[fileName][\"Lines Added\"]:\n",
        "    blamedShowData = repo.git.blame(fixingCommit, \"-L\", str(linesAdded[0])+\",\"+str(linesAdded[1]), \"-wCCC\", \"--\", fileName).splitlines()\n",
        "    for line in blamedShowData:\n",
        "        blamedLineShowData = line.partition(\") \")[2].strip()\n",
        "        foundFlag = None\n",
        "        for linesAddedAsCode in linesModifiedDict[\"linesAddedAsCode\"]:\n",
        "            if blamedLineShowData in linesAddedAsCode:\n",
        "                foundFlag = linesAddedAsCode\n",
        "                break\n",
        "        if foundFlag != None:\n",
        "            linesModifiedDict[\"linesAddedAsCode\"].remove(foundFlag)\n",
        "            enclosingScope(line,fileComp,commitsAdded,fileName)\n",
        "printLines(commitsAdded,commitsAddedCount,fileName)\n",
        "print(\"\\n\\n********VCC COMMITS********\\n\\n\")\n",
        "VCCCommitCount(files)"
      ],
      "execution_count": null,
      "outputs": [
        {
          "output_type": "stream",
          "name": "stdout",
          "text": [
            "********DELETED COMMITS********\n",
            "\n",
            "\n",
            "File Associated:  /content/monitoring-plugin/src/main/java/org/jvnet/hudson/plugins/monitoring/HudsonMonitoringFilter.java\n",
            "Count of Commits: 1 , Commit: 265514eaa1bc0a1a0be5fa8b2c581d35d36446a6\n",
            "\n",
            "\n",
            "********ADDED COMMITS********\n",
            "\n",
            "\n",
            "File Associated:  /content/monitoring-plugin/src/main/java/org/jvnet/hudson/plugins/monitoring/HudsonMonitoringFilter.java\n",
            "Count of Commits: 1 , Commit: 265514eaa1bc0a1a0be5fa8b2c581d35d36446a6\n",
            "Count of Commits: 1 , Commit: 95f116cece2df944ff0d004f044f4af557cdcf9e\n",
            "Count of Commits: 10 , Commit: f0f6aeef2032696c97d4b015dd51fa2b841b0473\n",
            "\n",
            "\n",
            "********VCC COMMITS********\n",
            "\n",
            "\n",
            "Vulnerability Contributing Commit Count:  1  Commit:  265514eaa1bc0a1a0be5fa8b2c581d35d36446a6\n"
          ]
        }
      ]
    },
    {
      "cell_type": "markdown",
      "metadata": {
        "id": "Ff_5KOjcj-vR"
      },
      "source": [
        "Task 6.a Is the current VCC an initial commit?"
      ]
    },
    {
      "cell_type": "code",
      "metadata": {
        "colab": {
          "base_uri": "https://localhost:8080/"
        },
        "id": "kaN0Luq6j_Ae",
        "outputId": "7f36aacf-5c55-4356-d37a-749c62a8487d"
      },
      "source": [
        "VCCCommit = \"265514eaa1bc0a1a0be5fa8b2c581d35d36446a6\"\n",
        "\n",
        "VCCParent = repo.git.show(VCCCommit+\"^\").splitlines()\n",
        "if(VCCParent):\n",
        "  print(\"VCC Parent exist\")\n"
      ],
      "execution_count": null,
      "outputs": [
        {
          "output_type": "stream",
          "name": "stdout",
          "text": [
            "VCC Parent exist\n"
          ]
        }
      ]
    },
    {
      "cell_type": "markdown",
      "metadata": {
        "id": "9XZ1SEVMlwzT"
      },
      "source": [
        "Task 6.b Is the developer of the current fixing commit and its corresponding VCC\n",
        "the same?"
      ]
    },
    {
      "cell_type": "code",
      "metadata": {
        "colab": {
          "base_uri": "https://localhost:8080/"
        },
        "id": "v_dHreSwkHEP",
        "outputId": "485b2e5d-1ae7-4828-dc20-5994a658df26"
      },
      "source": [
        "VCCCommits = [\"265514eaa1bc0a1a0be5fa8b2c581d35d36446a6\"]\n",
        "commit=repo.commit(fixingCommit)\n",
        "fixinCommitAuthor=commit.author.email\n",
        "print(\"Fix commit Author: {}\".format(fixinCommitAuthor))\n",
        "for commits in VCCCommits:\n",
        "    VCCcommit=repo.commit(commits)\n",
        "    VCCCommitAuthor=VCCcommit.author.email\n",
        "    if(fixinCommitAuthor==VCCCommitAuthor):\n",
        "        print(\"Yes! fixing commit author: {} is same in commit: {}\".format(fixinCommitAuthor,VCCcommit))\n",
        "    else:\n",
        "      print(\"Fixing commit author is different from VCC Author. VCC Author: {}\".format(VCCCommitAuthor))"
      ],
      "execution_count": null,
      "outputs": [
        {
          "output_type": "stream",
          "name": "stdout",
          "text": [
            "Fix commit Author: kk@kohsuke.org\n",
            "Fixing commit author is different from VCC Author. VCC Author: evernat@free.fr\n"
          ]
        }
      ]
    },
    {
      "cell_type": "markdown",
      "metadata": {
        "id": "pY8wlwIFmVhm"
      },
      "source": [
        "Task 6.c How many days were between the current fixing commit and its\n",
        "corresponding VCC?\n",
        "\n",
        "---\n",
        "\n"
      ]
    },
    {
      "cell_type": "code",
      "metadata": {
        "colab": {
          "base_uri": "https://localhost:8080/"
        },
        "id": "Og56UcVBmV3r",
        "outputId": "d02a7b97-0523-46ac-e286-3bf5979055ea"
      },
      "source": [
        "from datetime import datetime\n",
        "commit=repo.commit(fixingCommit)\n",
        "fixinCommitAuthor=commit.author.email\n",
        "dateFixing=repo.git.show(\"-s\",\"--format=%ci\",commit).split(\" \")\n",
        "dateFixing=dateFixing[0]\n",
        "dateFixing=datetime.strptime(\"{}\".format(dateFixing), '%Y-%m-%d').date()\n",
        "time_different = 0\n",
        "sum = 0\n",
        "count = 0\n",
        "for commits in VCCCommits:\n",
        "    date=repo.git.show(\"-s\",\"--format=%ci\",commits).split(\" \")\n",
        "    date=date[0]\n",
        "    date= datetime.strptime(\"{}\".format(date), '%Y-%m-%d').date()\n",
        "    days=dateFixing-date\n",
        "    print(\"Fixing commit: {} and VCC commit: {} was fixed in: {} \".format(commit,commits,days))"
      ],
      "execution_count": null,
      "outputs": [
        {
          "output_type": "stream",
          "name": "stdout",
          "text": [
            "Fixing commit: f0f6aeef2032696c97d4b015dd51fa2b841b0473 and VCC commit: 265514eaa1bc0a1a0be5fa8b2c581d35d36446a6 was fixed in: 1794 days, 0:00:00 \n"
          ]
        }
      ]
    },
    {
      "cell_type": "markdown",
      "metadata": {
        "id": "p2ugGCVeIXTd"
      },
      "source": [
        "END OF CVE-2014-3678\n",
        "--------------------------"
      ]
    }
  ]
}